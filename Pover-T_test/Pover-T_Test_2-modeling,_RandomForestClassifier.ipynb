{
 "cells": [
  {
   "cell_type": "code",
   "execution_count": 1,
   "metadata": {},
   "outputs": [],
   "source": [
    "from datetime import datetime\n",
    "import timeit\n",
    "\n",
    "import pandas as pd\n",
    "import matplotlib.pyplot as plt\n",
    "import seaborn as sns\n",
    "\n",
    "from sklearn.preprocessing import Imputer\n",
    "from sklearn.preprocessing import StandardScaler\n",
    "from sklearn.feature_extraction.text import CountVectorizer\n",
    "from sklearn.model_selection import GridSearchCV\n",
    "from sklearn.ensemble import RandomForestClassifier\n",
    "\n",
    "# Load the files\n",
    "train_A = pd.read_csv('data/A_hhold_train.csv', index_col='id')\n",
    "test_A = pd.read_csv('data/A_hhold_test.csv', index_col='id')\n",
    "\n",
    "train_B = pd.read_csv('data/B_hhold_train.csv', index_col='id')\n",
    "test_B = pd.read_csv('data/B_hhold_test.csv', index_col='id')\n",
    "\n",
    "train_C = pd.read_csv('data/C_hhold_train.csv', index_col='id')\n",
    "test_C = pd.read_csv('data/C_hhold_test.csv', index_col='id')\n",
    "\n",
    "# Separate the labels from the values\n",
    "labels_A = train_A.poor\n",
    "train_A = train_A.drop(['poor','country'], axis='columns')\n",
    "test_A = test_A.drop(['country'], axis='columns')\n",
    "\n",
    "labels_B = train_B.poor\n",
    "train_B = train_B.drop(['poor','country'], axis='columns')\n",
    "test_B = test_B.drop(['country'], axis='columns')\n",
    "\n",
    "labels_C = train_C.poor\n",
    "train_C = train_C.drop(['poor','country'], axis='columns')\n",
    "test_C = test_C.drop(['country'], axis='columns')"
   ]
  },
  {
   "cell_type": "markdown",
   "metadata": {},
   "source": [
    "***\n",
    "# Function to prepare the data\n",
    "I will refrain from using a pipeline since the data sets are different for each country."
   ]
  },
  {
   "cell_type": "markdown",
   "metadata": {},
   "source": [
    "### <font color=gray>Function to combine all text rows\n",
    "I will employ a bag-of-words technique. To do this I will first combine all object columns to one column called 'text', and use the sklearn CountVectorizer to get dummies."
   ]
  },
  {
   "cell_type": "code",
   "execution_count": 2,
   "metadata": {},
   "outputs": [],
   "source": [
    "def combine_text_columns(data_frame):\n",
    "    \"\"\" converts all text in each row of data_frame to single vector \"\"\"\n",
    "   \n",
    "    # Join all text items in a row that have a space in between\n",
    "    return data_frame.apply(lambda x: \" \".join(x), axis=1)"
   ]
  },
  {
   "cell_type": "code",
   "execution_count": 3,
   "metadata": {},
   "outputs": [],
   "source": [
    "def prepare_data(train, test):\n",
    "    \"\"\"Prepare data ready to fit the model\"\"\"\n",
    "    \n",
    "    # Split each dataframes by numeric and object\n",
    "    train_num = train.loc[:,train.dtypes != 'object']\n",
    "    test_num = test.loc[:,test.dtypes != 'object']\n",
    "    train_obj = train.loc[:,train.dtypes == 'object']\n",
    "    test_obj = test.loc[:,test.dtypes == 'object']\n",
    "    \n",
    "    # Note the numeric column names for use later to prevent a colision on joining\n",
    "    num_cols = train_num.columns\n",
    "    \n",
    "    ########################\n",
    "    # Impute the numeric data using the median\n",
    "    impute = Imputer(strategy='median')\n",
    "    train_num = impute.fit_transform(train_num)\n",
    "    test_num = impute.transform(test_num)\n",
    "    \n",
    "    # Scale the numberic data\n",
    "    scale = StandardScaler()\n",
    "    train_num = impute.fit_transform(train_num)\n",
    "    test_num = impute.transform(test_num)\n",
    "    \n",
    "    ########################\n",
    "    # Create text column of combine text\n",
    "    train_obj['text'] = combine_text_columns(train_obj)\n",
    "    test_obj['text'] = combine_text_columns(test_obj)\n",
    "    \n",
    "    # Countvectorizer on 'text'\n",
    "    vectorizer = CountVectorizer(token_pattern='[A-Za-z0-9]+(?=\\\\s+)')\n",
    "    train_obj = vectorizer.fit_transform(train_obj['text'])\n",
    "    test_obj = vectorizer.transform(test_obj['text'])\n",
    "    \n",
    "    # Return the datasets to dataframes\n",
    "    train_num = pd.DataFrame(train_num, index=train.index, columns=num_cols)\n",
    "    test_num = pd.DataFrame(test_num, index=test.index, columns=num_cols)\n",
    "    train_obj = pd.DataFrame(train_obj.todense(), index=train.index)\n",
    "    test_obj = pd.DataFrame(test_obj.todense(), index=test.index)\n",
    "    \n",
    "    # Join the to dataframes\n",
    "    train = train_num.join(train_obj)\n",
    "    test = test_num.join(test_obj)\n",
    "    \n",
    "    return train, test"
   ]
  },
  {
   "cell_type": "markdown",
   "metadata": {},
   "source": [
    "### <font color=gray>Apply the prepare_data function to the datasets of each country"
   ]
  },
  {
   "cell_type": "code",
   "execution_count": 4,
   "metadata": {},
   "outputs": [
    {
     "name": "stderr",
     "output_type": "stream",
     "text": [
      "/home/jesse/.local/lib/python3.5/site-packages/ipykernel_launcher.py:26: SettingWithCopyWarning: \n",
      "A value is trying to be set on a copy of a slice from a DataFrame.\n",
      "Try using .loc[row_indexer,col_indexer] = value instead\n",
      "\n",
      "See the caveats in the documentation: http://pandas.pydata.org/pandas-docs/stable/indexing.html#indexing-view-versus-copy\n",
      "/home/jesse/.local/lib/python3.5/site-packages/ipykernel_launcher.py:27: SettingWithCopyWarning: \n",
      "A value is trying to be set on a copy of a slice from a DataFrame.\n",
      "Try using .loc[row_indexer,col_indexer] = value instead\n",
      "\n",
      "See the caveats in the documentation: http://pandas.pydata.org/pandas-docs/stable/indexing.html#indexing-view-versus-copy\n"
     ]
    }
   ],
   "source": [
    "# Transform each country data set\n",
    "train_a_trans, test_a_trans = prepare_data(train_A, test_A)\n",
    "train_b_trans, test_b_trans = prepare_data(train_B, test_B)\n",
    "train_c_trans, test_c_trans = prepare_data(train_C, test_C)"
   ]
  },
  {
   "cell_type": "markdown",
   "metadata": {},
   "source": [
    "***\n",
    "# GridSearchCV Using RandomForest\n",
    "### <font color=gray>Define a function to make searching easier"
   ]
  },
  {
   "cell_type": "code",
   "execution_count": 5,
   "metadata": {},
   "outputs": [],
   "source": [
    "def grid_clf_log_loss(X, y, param, verbose=2):\n",
    "    \"\"\"grid search using RandomForestClassifier\"\"\"\n",
    "    \n",
    "    #print('Process start time:',datetime.now(),'\\n')\n",
    "    tic = timeit.default_timer()\n",
    "\n",
    "    clf = RandomForestClassifier(random_state=2049, n_jobs=-1, class_weight= \"balanced\")\n",
    "    gridCV = GridSearchCV(clf, param, cv=3, verbose=verbose,  scoring='neg_log_loss', \n",
    "                          return_train_score=True, n_jobs=1)\n",
    "    gridCV.fit(X, y)\n",
    "    \n",
    "    \n",
    "    # Make and print results dataframe\n",
    "    cv_result = pd.DataFrame(gridCV.cv_results_)\n",
    "    param_columns = ['param_'+key for key in list(param.keys())]\n",
    "    cv_columns = ['mean_test_score', 'std_test_score', 'rank_test_score'] + param_columns\n",
    "\n",
    "    toc = timeit.default_timer()\n",
    "    print('Total process time (min):',(toc-tic)/60)\n",
    "\n",
    "    return clf, cv_result[cv_columns].sort_values('rank_test_score')"
   ]
  },
  {
   "cell_type": "markdown",
   "metadata": {},
   "source": [
    "### <font color=gray>GridSearch on country A"
   ]
  },
  {
   "cell_type": "code",
   "execution_count": 6,
   "metadata": {},
   "outputs": [
    {
     "name": "stdout",
     "output_type": "stream",
     "text": [
      "Total process time (min): 8.535966905249127\n"
     ]
    },
    {
     "data": {
      "text/html": [
       "<div>\n",
       "<style scoped>\n",
       "    .dataframe tbody tr th:only-of-type {\n",
       "        vertical-align: middle;\n",
       "    }\n",
       "\n",
       "    .dataframe tbody tr th {\n",
       "        vertical-align: top;\n",
       "    }\n",
       "\n",
       "    .dataframe thead th {\n",
       "        text-align: right;\n",
       "    }\n",
       "</style>\n",
       "<table border=\"1\" class=\"dataframe\">\n",
       "  <thead>\n",
       "    <tr style=\"text-align: right;\">\n",
       "      <th></th>\n",
       "      <th>mean_test_score</th>\n",
       "      <th>std_test_score</th>\n",
       "      <th>rank_test_score</th>\n",
       "      <th>param_max_depth</th>\n",
       "      <th>param_n_estimators</th>\n",
       "      <th>param_min_samples_leaf</th>\n",
       "      <th>param_max_features</th>\n",
       "    </tr>\n",
       "  </thead>\n",
       "  <tbody>\n",
       "    <tr>\n",
       "      <th>11</th>\n",
       "      <td>-0.349245</td>\n",
       "      <td>0.008646</td>\n",
       "      <td>1</td>\n",
       "      <td>40</td>\n",
       "      <td>100</td>\n",
       "      <td>3</td>\n",
       "      <td>None</td>\n",
       "    </tr>\n",
       "    <tr>\n",
       "      <th>17</th>\n",
       "      <td>-0.349245</td>\n",
       "      <td>0.008646</td>\n",
       "      <td>1</td>\n",
       "      <td>60</td>\n",
       "      <td>100</td>\n",
       "      <td>3</td>\n",
       "      <td>None</td>\n",
       "    </tr>\n",
       "    <tr>\n",
       "      <th>23</th>\n",
       "      <td>-0.349245</td>\n",
       "      <td>0.008646</td>\n",
       "      <td>1</td>\n",
       "      <td>80</td>\n",
       "      <td>100</td>\n",
       "      <td>3</td>\n",
       "      <td>None</td>\n",
       "    </tr>\n",
       "    <tr>\n",
       "      <th>5</th>\n",
       "      <td>-0.349829</td>\n",
       "      <td>0.008579</td>\n",
       "      <td>4</td>\n",
       "      <td>20</td>\n",
       "      <td>100</td>\n",
       "      <td>3</td>\n",
       "      <td>None</td>\n",
       "    </tr>\n",
       "    <tr>\n",
       "      <th>10</th>\n",
       "      <td>-0.349923</td>\n",
       "      <td>0.009137</td>\n",
       "      <td>5</td>\n",
       "      <td>40</td>\n",
       "      <td>100</td>\n",
       "      <td>2</td>\n",
       "      <td>None</td>\n",
       "    </tr>\n",
       "  </tbody>\n",
       "</table>\n",
       "</div>"
      ],
      "text/plain": [
       "    mean_test_score  std_test_score  rank_test_score param_max_depth  \\\n",
       "11        -0.349245        0.008646                1              40   \n",
       "17        -0.349245        0.008646                1              60   \n",
       "23        -0.349245        0.008646                1              80   \n",
       "5         -0.349829        0.008579                4              20   \n",
       "10        -0.349923        0.009137                5              40   \n",
       "\n",
       "   param_n_estimators param_min_samples_leaf param_max_features  \n",
       "11                100                      3               None  \n",
       "17                100                      3               None  \n",
       "23                100                      3               None  \n",
       "5                 100                      3               None  \n",
       "10                100                      2               None  "
      ]
     },
     "execution_count": 6,
     "metadata": {},
     "output_type": "execute_result"
    }
   ],
   "source": [
    "param = {'n_estimators':[100],\n",
    "         'max_features':['auto', None],\n",
    "         'min_samples_leaf':[1,2,3],\n",
    "         'max_depth':range(20,100,20)}\n",
    "\n",
    "model, cv_results = grid_clf_log_loss(train_a_trans, labels_A, param, verbose=0)\n",
    "cv_results.head()"
   ]
  },
  {
   "cell_type": "markdown",
   "metadata": {},
   "source": [
    "### <font color=gray>GridSearch on country B"
   ]
  },
  {
   "cell_type": "code",
   "execution_count": 7,
   "metadata": {},
   "outputs": [
    {
     "name": "stdout",
     "output_type": "stream",
     "text": [
      "Total process time (min): 3.385880766933163\n"
     ]
    },
    {
     "data": {
      "text/html": [
       "<div>\n",
       "<style scoped>\n",
       "    .dataframe tbody tr th:only-of-type {\n",
       "        vertical-align: middle;\n",
       "    }\n",
       "\n",
       "    .dataframe tbody tr th {\n",
       "        vertical-align: top;\n",
       "    }\n",
       "\n",
       "    .dataframe thead th {\n",
       "        text-align: right;\n",
       "    }\n",
       "</style>\n",
       "<table border=\"1\" class=\"dataframe\">\n",
       "  <thead>\n",
       "    <tr style=\"text-align: right;\">\n",
       "      <th></th>\n",
       "      <th>mean_test_score</th>\n",
       "      <th>std_test_score</th>\n",
       "      <th>rank_test_score</th>\n",
       "      <th>param_max_depth</th>\n",
       "      <th>param_n_estimators</th>\n",
       "      <th>param_min_samples_leaf</th>\n",
       "      <th>param_max_features</th>\n",
       "    </tr>\n",
       "  </thead>\n",
       "  <tbody>\n",
       "    <tr>\n",
       "      <th>18</th>\n",
       "      <td>-0.231556</td>\n",
       "      <td>0.005738</td>\n",
       "      <td>1</td>\n",
       "      <td>80</td>\n",
       "      <td>100</td>\n",
       "      <td>2</td>\n",
       "      <td>auto</td>\n",
       "    </tr>\n",
       "    <tr>\n",
       "      <th>6</th>\n",
       "      <td>-0.231556</td>\n",
       "      <td>0.005738</td>\n",
       "      <td>1</td>\n",
       "      <td>40</td>\n",
       "      <td>100</td>\n",
       "      <td>2</td>\n",
       "      <td>auto</td>\n",
       "    </tr>\n",
       "    <tr>\n",
       "      <th>12</th>\n",
       "      <td>-0.231556</td>\n",
       "      <td>0.005738</td>\n",
       "      <td>1</td>\n",
       "      <td>60</td>\n",
       "      <td>100</td>\n",
       "      <td>2</td>\n",
       "      <td>auto</td>\n",
       "    </tr>\n",
       "    <tr>\n",
       "      <th>0</th>\n",
       "      <td>-0.231670</td>\n",
       "      <td>0.004348</td>\n",
       "      <td>4</td>\n",
       "      <td>20</td>\n",
       "      <td>100</td>\n",
       "      <td>2</td>\n",
       "      <td>auto</td>\n",
       "    </tr>\n",
       "    <tr>\n",
       "      <th>16</th>\n",
       "      <td>-0.235748</td>\n",
       "      <td>0.011310</td>\n",
       "      <td>5</td>\n",
       "      <td>60</td>\n",
       "      <td>100</td>\n",
       "      <td>3</td>\n",
       "      <td>None</td>\n",
       "    </tr>\n",
       "  </tbody>\n",
       "</table>\n",
       "</div>"
      ],
      "text/plain": [
       "    mean_test_score  std_test_score  rank_test_score param_max_depth  \\\n",
       "18        -0.231556        0.005738                1              80   \n",
       "6         -0.231556        0.005738                1              40   \n",
       "12        -0.231556        0.005738                1              60   \n",
       "0         -0.231670        0.004348                4              20   \n",
       "16        -0.235748        0.011310                5              60   \n",
       "\n",
       "   param_n_estimators param_min_samples_leaf param_max_features  \n",
       "18                100                      2               auto  \n",
       "6                 100                      2               auto  \n",
       "12                100                      2               auto  \n",
       "0                 100                      2               auto  \n",
       "16                100                      3               None  "
      ]
     },
     "execution_count": 7,
     "metadata": {},
     "output_type": "execute_result"
    }
   ],
   "source": [
    "param = {'n_estimators':[100],\n",
    "         'max_features':['auto', None],\n",
    "         'min_samples_leaf':[2,3,4],\n",
    "         'max_depth':range(20,100,20)}\n",
    "\n",
    "model, cv_results = grid_clf_log_loss(train_b_trans, labels_B, param, verbose=0)\n",
    "cv_results.head()"
   ]
  },
  {
   "cell_type": "markdown",
   "metadata": {},
   "source": [
    "### <font color=gray>GridSearch on country C"
   ]
  },
  {
   "cell_type": "code",
   "execution_count": 8,
   "metadata": {},
   "outputs": [
    {
     "name": "stdout",
     "output_type": "stream",
     "text": [
      "Total process time (min): 2.5792096895340366\n"
     ]
    },
    {
     "data": {
      "text/html": [
       "<div>\n",
       "<style scoped>\n",
       "    .dataframe tbody tr th:only-of-type {\n",
       "        vertical-align: middle;\n",
       "    }\n",
       "\n",
       "    .dataframe tbody tr th {\n",
       "        vertical-align: top;\n",
       "    }\n",
       "\n",
       "    .dataframe thead th {\n",
       "        text-align: right;\n",
       "    }\n",
       "</style>\n",
       "<table border=\"1\" class=\"dataframe\">\n",
       "  <thead>\n",
       "    <tr style=\"text-align: right;\">\n",
       "      <th></th>\n",
       "      <th>mean_test_score</th>\n",
       "      <th>std_test_score</th>\n",
       "      <th>rank_test_score</th>\n",
       "      <th>param_max_depth</th>\n",
       "      <th>param_n_estimators</th>\n",
       "      <th>param_min_samples_leaf</th>\n",
       "      <th>param_max_features</th>\n",
       "    </tr>\n",
       "  </thead>\n",
       "  <tbody>\n",
       "    <tr>\n",
       "      <th>21</th>\n",
       "      <td>-0.046905</td>\n",
       "      <td>0.022878</td>\n",
       "      <td>1</td>\n",
       "      <td>80</td>\n",
       "      <td>100</td>\n",
       "      <td>1</td>\n",
       "      <td>None</td>\n",
       "    </tr>\n",
       "    <tr>\n",
       "      <th>3</th>\n",
       "      <td>-0.046905</td>\n",
       "      <td>0.022878</td>\n",
       "      <td>1</td>\n",
       "      <td>20</td>\n",
       "      <td>100</td>\n",
       "      <td>1</td>\n",
       "      <td>None</td>\n",
       "    </tr>\n",
       "    <tr>\n",
       "      <th>15</th>\n",
       "      <td>-0.046905</td>\n",
       "      <td>0.022878</td>\n",
       "      <td>1</td>\n",
       "      <td>60</td>\n",
       "      <td>100</td>\n",
       "      <td>1</td>\n",
       "      <td>None</td>\n",
       "    </tr>\n",
       "    <tr>\n",
       "      <th>9</th>\n",
       "      <td>-0.046905</td>\n",
       "      <td>0.022878</td>\n",
       "      <td>1</td>\n",
       "      <td>40</td>\n",
       "      <td>100</td>\n",
       "      <td>1</td>\n",
       "      <td>None</td>\n",
       "    </tr>\n",
       "    <tr>\n",
       "      <th>11</th>\n",
       "      <td>-0.048540</td>\n",
       "      <td>0.013988</td>\n",
       "      <td>5</td>\n",
       "      <td>40</td>\n",
       "      <td>100</td>\n",
       "      <td>3</td>\n",
       "      <td>None</td>\n",
       "    </tr>\n",
       "  </tbody>\n",
       "</table>\n",
       "</div>"
      ],
      "text/plain": [
       "    mean_test_score  std_test_score  rank_test_score param_max_depth  \\\n",
       "21        -0.046905        0.022878                1              80   \n",
       "3         -0.046905        0.022878                1              20   \n",
       "15        -0.046905        0.022878                1              60   \n",
       "9         -0.046905        0.022878                1              40   \n",
       "11        -0.048540        0.013988                5              40   \n",
       "\n",
       "   param_n_estimators param_min_samples_leaf param_max_features  \n",
       "21                100                      1               None  \n",
       "3                 100                      1               None  \n",
       "15                100                      1               None  \n",
       "9                 100                      1               None  \n",
       "11                100                      3               None  "
      ]
     },
     "execution_count": 8,
     "metadata": {},
     "output_type": "execute_result"
    }
   ],
   "source": [
    "param = {'n_estimators':[100],\n",
    "         'max_features':['auto', None],\n",
    "         'min_samples_leaf':[1,2,3],\n",
    "         'max_depth':range(20,100,20)}\n",
    "\n",
    "model, cv_results = grid_clf_log_loss(train_c_trans, labels_C, param, verbose=0)\n",
    "cv_results.head()"
   ]
  },
  {
   "cell_type": "markdown",
   "metadata": {},
   "source": [
    "### <font color=gray>Estimated mean log loss score across all 3 countries\n",
    "This is an estimate of score received from DriveData.org using these three optimal models."
   ]
  },
  {
   "cell_type": "code",
   "execution_count": 9,
   "metadata": {},
   "outputs": [
    {
     "name": "stdout",
     "output_type": "stream",
     "text": [
      "Estimated log-loss score on the test data: 0.21877\n"
     ]
    }
   ],
   "source": [
    "score_A = -0.349245\n",
    "score_B = -0.231556\n",
    "score_C = -0.046905\n",
    "n_observations_A = test_A.shape[0]\n",
    "n_observations_B = test_B.shape[0]\n",
    "n_observations_C = test_C.shape[0]\n",
    "total_observations = n_observations_A + n_observations_B + n_observations_C\n",
    "\n",
    "estimated_score = -(score_A*n_observations_A + score_B*n_observations_B + score_C*n_observations_C)/total_observations\n",
    "\n",
    "print('Estimated log-loss score on the test data: {0:.5f}'.format(estimated_score))"
   ]
  },
  {
   "cell_type": "markdown",
   "metadata": {},
   "source": [
    "***\n",
    "# Prepare final submission"
   ]
  },
  {
   "cell_type": "code",
   "execution_count": 10,
   "metadata": {},
   "outputs": [],
   "source": [
    "def predict(train, test, labels, n_estimators, max_features, max_depth, min_samples_leaf, country):\n",
    "    clf = RandomForestClassifier(n_estimators=n_estimators, max_features=max_features,\n",
    "                                 max_depth=max_depth, min_samples_leaf=min_samples_leaf, \n",
    "                                 random_state=2049, n_jobs=-1, class_weight= \"balanced\")\n",
    "    clf.fit(train,labels)\n",
    "    prediction = clf.predict(test)\n",
    "    probability = clf.predict_proba(test)\n",
    "    neg_probablity, pos_probability = zip(*probability)\n",
    "    \n",
    "    # Create dataframe with correct index and a broadcast country column\n",
    "    result_dataframe = pd.DataFrame(columns=['country'],\n",
    "                                   index=test.index,\n",
    "                                   data=country)\n",
    "    # Add the results column\n",
    "    result_dataframe['poor'] = pos_probability\n",
    "    \n",
    "    \n",
    "    return result_dataframe"
   ]
  },
  {
   "cell_type": "markdown",
   "metadata": {},
   "source": [
    "### <font color=gray>Apply the predict function with the each countries optimal hyperparameters"
   ]
  },
  {
   "cell_type": "code",
   "execution_count": 11,
   "metadata": {},
   "outputs": [],
   "source": [
    "result_df_A = predict(train_a_trans, test_a_trans, labels_A, n_estimators=100,\n",
    "                      max_features=None, max_depth=40, min_samples_leaf=3, country='A')\n",
    "\n",
    "result_df_B = predict(train_b_trans, test_b_trans, labels_B, n_estimators=100,\n",
    "                      max_features='auto', max_depth=80, min_samples_leaf=2, country='B')\n",
    "\n",
    "result_df_C = predict(train_c_trans, test_c_trans, labels_C, n_estimators=100,\n",
    "                      max_features=None, max_depth=80, min_samples_leaf=1, country='C')"
   ]
  },
  {
   "cell_type": "markdown",
   "metadata": {},
   "source": [
    "### <font color=gray>Concatenate the results to a single dataframe ready for submission"
   ]
  },
  {
   "cell_type": "code",
   "execution_count": 12,
   "metadata": {},
   "outputs": [
    {
     "data": {
      "text/html": [
       "<div>\n",
       "<style scoped>\n",
       "    .dataframe tbody tr th:only-of-type {\n",
       "        vertical-align: middle;\n",
       "    }\n",
       "\n",
       "    .dataframe tbody tr th {\n",
       "        vertical-align: top;\n",
       "    }\n",
       "\n",
       "    .dataframe thead th {\n",
       "        text-align: right;\n",
       "    }\n",
       "</style>\n",
       "<table border=\"1\" class=\"dataframe\">\n",
       "  <thead>\n",
       "    <tr style=\"text-align: right;\">\n",
       "      <th></th>\n",
       "      <th>country</th>\n",
       "      <th>poor</th>\n",
       "    </tr>\n",
       "    <tr>\n",
       "      <th>id</th>\n",
       "      <th></th>\n",
       "      <th></th>\n",
       "    </tr>\n",
       "  </thead>\n",
       "  <tbody>\n",
       "    <tr>\n",
       "      <th>418</th>\n",
       "      <td>A</td>\n",
       "      <td>0.608189</td>\n",
       "    </tr>\n",
       "    <tr>\n",
       "      <th>41249</th>\n",
       "      <td>A</td>\n",
       "      <td>0.074432</td>\n",
       "    </tr>\n",
       "    <tr>\n",
       "      <th>16205</th>\n",
       "      <td>A</td>\n",
       "      <td>0.608053</td>\n",
       "    </tr>\n",
       "    <tr>\n",
       "      <th>97501</th>\n",
       "      <td>A</td>\n",
       "      <td>0.089529</td>\n",
       "    </tr>\n",
       "    <tr>\n",
       "      <th>67756</th>\n",
       "      <td>A</td>\n",
       "      <td>0.934198</td>\n",
       "    </tr>\n",
       "  </tbody>\n",
       "</table>\n",
       "</div>"
      ],
      "text/plain": [
       "      country      poor\n",
       "id                     \n",
       "418         A  0.608189\n",
       "41249       A  0.074432\n",
       "16205       A  0.608053\n",
       "97501       A  0.089529\n",
       "67756       A  0.934198"
      ]
     },
     "execution_count": 12,
     "metadata": {},
     "output_type": "execute_result"
    }
   ],
   "source": [
    "frames = [result_df_A, result_df_B, result_df_C]\n",
    "submission_df = pd.concat(frames)\n",
    "submission_df.head()"
   ]
  },
  {
   "cell_type": "markdown",
   "metadata": {},
   "source": [
    "### <font color=gray>Export the dataframe to a csv file"
   ]
  },
  {
   "cell_type": "code",
   "execution_count": 13,
   "metadata": {},
   "outputs": [],
   "source": [
    "submission_df.to_csv('submission_file.csv')"
   ]
  }
 ],
 "metadata": {
  "kernelspec": {
   "display_name": "Python 3",
   "language": "python",
   "name": "python3"
  },
  "language_info": {
   "codemirror_mode": {
    "name": "ipython",
    "version": 3
   },
   "file_extension": ".py",
   "mimetype": "text/x-python",
   "name": "python",
   "nbconvert_exporter": "python",
   "pygments_lexer": "ipython3",
   "version": "3.5.2"
  }
 },
 "nbformat": 4,
 "nbformat_minor": 2
}
