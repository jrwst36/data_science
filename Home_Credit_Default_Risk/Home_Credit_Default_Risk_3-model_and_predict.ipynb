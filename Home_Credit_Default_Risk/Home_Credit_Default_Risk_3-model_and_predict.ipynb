{
 "cells": [
  {
   "cell_type": "markdown",
   "metadata": {},
   "source": [
    "# Home Credit Default Risk: Model and Predict\n",
    "I will use XG Boost to model the data because it can handle null values in the data set. It has also been a successful estimator in previous Kaggle competitions."
   ]
  },
  {
   "cell_type": "code",
   "execution_count": 1,
   "metadata": {},
   "outputs": [],
   "source": [
    "import pandas as pd\n",
    "import numpy as np\n",
    "\n",
    "from sklearn.model_selection import GridSearchCV\n",
    "import xgboost as xgb\n",
    "\n",
    "# Load the data\n",
    "train = pd.read_csv('train_all.csv', index_col='SK_ID_CURR')\n",
    "test = pd.read_csv('test_all.csv', index_col='SK_ID_CURR')\n",
    "target = pd.read_csv('data/application_train.csv', index_col='SK_ID_CURR').TARGET\n",
    "\n",
    "# Some instances were dropped when preparing the trainning data. Below are the relevant target values.\n",
    "target = target.loc[train.index]"
   ]
  },
  {
   "cell_type": "markdown",
   "metadata": {},
   "source": [
    "The base score calculated below will be used in the estimator to deal with the imbalance within the training data."
   ]
  },
  {
   "cell_type": "code",
   "execution_count": 2,
   "metadata": {},
   "outputs": [],
   "source": [
    "base_score_estimate = target.mean()"
   ]
  },
  {
   "cell_type": "markdown",
   "metadata": {},
   "source": [
    "# GridSearchCV with XG Boost to refine the modeling hyperparameters\n",
    "Besides the search below, I've explored the hyperparameter space intensely, and these hyperparameters yield the best results (at least that I could find)."
   ]
  },
  {
   "cell_type": "code",
   "execution_count": 3,
   "metadata": {},
   "outputs": [
    {
     "data": {
      "text/html": [
       "<div>\n",
       "<style scoped>\n",
       "    .dataframe tbody tr th:only-of-type {\n",
       "        vertical-align: middle;\n",
       "    }\n",
       "\n",
       "    .dataframe tbody tr th {\n",
       "        vertical-align: top;\n",
       "    }\n",
       "\n",
       "    .dataframe thead th {\n",
       "        text-align: right;\n",
       "    }\n",
       "</style>\n",
       "<table border=\"1\" class=\"dataframe\">\n",
       "  <thead>\n",
       "    <tr style=\"text-align: right;\">\n",
       "      <th></th>\n",
       "      <th>mean_test_score</th>\n",
       "      <th>std_test_score</th>\n",
       "      <th>rank_test_score</th>\n",
       "      <th>param_max_depth</th>\n",
       "      <th>param_learning_rate</th>\n",
       "    </tr>\n",
       "  </thead>\n",
       "  <tbody>\n",
       "    <tr>\n",
       "      <th>3</th>\n",
       "      <td>0.777290</td>\n",
       "      <td>0.001997</td>\n",
       "      <td>1</td>\n",
       "      <td>4</td>\n",
       "      <td>0.075</td>\n",
       "    </tr>\n",
       "    <tr>\n",
       "      <th>6</th>\n",
       "      <td>0.777281</td>\n",
       "      <td>0.001789</td>\n",
       "      <td>2</td>\n",
       "      <td>3</td>\n",
       "      <td>0.1</td>\n",
       "    </tr>\n",
       "    <tr>\n",
       "      <th>2</th>\n",
       "      <td>0.776941</td>\n",
       "      <td>0.002279</td>\n",
       "      <td>3</td>\n",
       "      <td>3</td>\n",
       "      <td>0.075</td>\n",
       "    </tr>\n",
       "    <tr>\n",
       "      <th>7</th>\n",
       "      <td>0.776822</td>\n",
       "      <td>0.001838</td>\n",
       "      <td>4</td>\n",
       "      <td>4</td>\n",
       "      <td>0.1</td>\n",
       "    </tr>\n",
       "    <tr>\n",
       "      <th>10</th>\n",
       "      <td>0.776588</td>\n",
       "      <td>0.001901</td>\n",
       "      <td>5</td>\n",
       "      <td>3</td>\n",
       "      <td>0.15</td>\n",
       "    </tr>\n",
       "  </tbody>\n",
       "</table>\n",
       "</div>"
      ],
      "text/plain": [
       "    mean_test_score  std_test_score  rank_test_score param_max_depth  \\\n",
       "3          0.777290        0.001997                1               4   \n",
       "6          0.777281        0.001789                2               3   \n",
       "2          0.776941        0.002279                3               3   \n",
       "7          0.776822        0.001838                4               4   \n",
       "10         0.776588        0.001901                5               3   \n",
       "\n",
       "   param_learning_rate  \n",
       "3                0.075  \n",
       "6                  0.1  \n",
       "2                0.075  \n",
       "7                  0.1  \n",
       "10                0.15  "
      ]
     },
     "execution_count": 3,
     "metadata": {},
     "output_type": "execute_result"
    }
   ],
   "source": [
    "params = {'learning_rate':[0.075,0.1,0.15],\n",
    "          'max_depth':[1,2,3,4]}\n",
    "\n",
    "xgb_model = xgb.XGBClassifier(silent=1, random_state=2049, n_jobs=-1,\n",
    "                              base_score=base_score_estimate, n_estimators=500)\n",
    "\n",
    "gridCV = GridSearchCV(xgb_model, params, cv=3, verbose=0,\n",
    "                      scoring='roc_auc',return_train_score=True)\n",
    "\n",
    "gridCV.fit(train,target)\n",
    "\n",
    "cv_result = pd.DataFrame(gridCV.cv_results_)\n",
    "param_columns = ['param_'+key for key in params.keys()]\n",
    "cv_columns = ['mean_test_score','std_test_score','rank_test_score'] + param_columns\n",
    "cv_result[cv_columns].sort_values('rank_test_score').head()"
   ]
  },
  {
   "cell_type": "code",
   "execution_count": 4,
   "metadata": {},
   "outputs": [
    {
     "data": {
      "text/plain": [
       "<seaborn.axisgrid.FacetGrid at 0x7f07d8780780>"
      ]
     },
     "execution_count": 4,
     "metadata": {},
     "output_type": "execute_result"
    },
    {
     "data": {
      "image/png": "[encoded data removed]",
      "text/plain": [
       "<Figure size 833.225x360 with 1 Axes>"
      ]
     },
     "metadata": {},
     "output_type": "display_data"
    }
   ],
   "source": [
    "cv_result['learning_rate'] = cv_result['param_learning_rate'].astype('str')\n",
    "\n",
    "%matplotlib inline\n",
    "import matplotlib.pyplot as plt\n",
    "import seaborn as sns\n",
    "sns.set()\n",
    "\n",
    "sns.relplot(x = 'param_max_depth', y = 'mean_test_score', style=\"learning_rate\",\n",
    "            height=5, aspect=2, kind=\"line\", legend=\"full\", data = cv_result)"
   ]
  },
  {
   "cell_type": "markdown",
   "metadata": {},
   "source": [
    "# Train final model and make predictions"
   ]
  },
  {
   "cell_type": "code",
   "execution_count": 5,
   "metadata": {},
   "outputs": [
    {
     "data": {
      "text/plain": [
       "XGBClassifier(base_score=0.08072520325203252, booster='gbtree',\n",
       "       colsample_bylevel=1, colsample_bytree=1, gamma=0,\n",
       "       learning_rate=0.075, max_delta_step=0, max_depth=4,\n",
       "       min_child_weight=1, missing=None, n_estimators=500, n_jobs=-1,\n",
       "       nthread=None, objective='binary:logistic', random_state=2049,\n",
       "       reg_alpha=0, reg_lambda=1, scale_pos_weight=1, seed=None, silent=1,\n",
       "       subsample=1)"
      ]
     },
     "execution_count": 5,
     "metadata": {},
     "output_type": "execute_result"
    }
   ],
   "source": [
    "xgb_model = xgb.XGBClassifier(silent=1, random_state=2049, n_jobs=-1,\n",
    "                              base_score=base_score_estimate, n_estimators=500,\n",
    "                              learning_rate=0.075, max_depth=4)\n",
    "\n",
    "xgb_model.fit(train,target)"
   ]
  },
  {
   "cell_type": "code",
   "execution_count": 6,
   "metadata": {},
   "outputs": [
    {
     "data": {
      "text/html": [
       "<div>\n",
       "<style scoped>\n",
       "    .dataframe tbody tr th:only-of-type {\n",
       "        vertical-align: middle;\n",
       "    }\n",
       "\n",
       "    .dataframe tbody tr th {\n",
       "        vertical-align: top;\n",
       "    }\n",
       "\n",
       "    .dataframe thead th {\n",
       "        text-align: right;\n",
       "    }\n",
       "</style>\n",
       "<table border=\"1\" class=\"dataframe\">\n",
       "  <thead>\n",
       "    <tr style=\"text-align: right;\">\n",
       "      <th></th>\n",
       "      <th>TARGET</th>\n",
       "    </tr>\n",
       "    <tr>\n",
       "      <th>SK_ID_CURR</th>\n",
       "      <th></th>\n",
       "    </tr>\n",
       "  </thead>\n",
       "  <tbody>\n",
       "    <tr>\n",
       "      <th>100001</th>\n",
       "      <td>0.041895</td>\n",
       "    </tr>\n",
       "    <tr>\n",
       "      <th>100005</th>\n",
       "      <td>0.155164</td>\n",
       "    </tr>\n",
       "    <tr>\n",
       "      <th>100013</th>\n",
       "      <td>0.029941</td>\n",
       "    </tr>\n",
       "    <tr>\n",
       "      <th>100028</th>\n",
       "      <td>0.028404</td>\n",
       "    </tr>\n",
       "    <tr>\n",
       "      <th>100038</th>\n",
       "      <td>0.174650</td>\n",
       "    </tr>\n",
       "  </tbody>\n",
       "</table>\n",
       "</div>"
      ],
      "text/plain": [
       "              TARGET\n",
       "SK_ID_CURR          \n",
       "100001      0.041895\n",
       "100005      0.155164\n",
       "100013      0.029941\n",
       "100028      0.028404\n",
       "100038      0.174650"
      ]
     },
     "execution_count": 6,
     "metadata": {},
     "output_type": "execute_result"
    }
   ],
   "source": [
    "predictions = xgb_model.predict_proba(test)\n",
    "predict_neg, predict_pos = zip(*predictions)\n",
    "results_data = list(predict_pos)\n",
    "\n",
    "submission_df = pd.DataFrame(data=results_data, \n",
    "                             columns=['TARGET'], \n",
    "                             index=test.index)\n",
    "submission_df.head()"
   ]
  },
  {
   "cell_type": "code",
   "execution_count": 7,
   "metadata": {},
   "outputs": [],
   "source": [
    "submission_df.to_csv('final_submission.csv')"
   ]
  }
 ],
 "metadata": {
  "kernelspec": {
   "display_name": "Python 3",
   "language": "python",
   "name": "python3"
  },
  "language_info": {
   "codemirror_mode": {
    "name": "ipython",
    "version": 3
   },
   "file_extension": ".py",
   "mimetype": "text/x-python",
   "name": "python",
   "nbconvert_exporter": "python",
   "pygments_lexer": "ipython3",
   "version": "3.5.2"
  }
 },
 "nbformat": 4,
 "nbformat_minor": 2
}
